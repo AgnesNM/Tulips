{
 "cells": [
  {
   "cell_type": "code",
   "execution_count": 1,
   "metadata": {},
   "outputs": [
    {
     "name": "stdout",
     "output_type": "stream",
     "text": [
      "{'SMSMessageData': {'Message': 'Sent to 1/1 Total Cost: KES 0.8000', 'Recipients': [{'cost': 'KES 0.8000', 'messageId': 'ATXid_6f486fd76854ae9b3a5dc5411d0bb6e4', 'messageParts': 1, 'number': '+254796537064', 'status': 'Success', 'statusCode': 101}]}}\n"
     ]
    }
   ],
   "source": [
    "import africastalking\n",
    "\n",
    "\n",
    "class SMS:\n",
    "    def __init__(self):\n",
    "        self.username = \"orchid\"\n",
    "        self.api_key = \"f2d968101697073b23aa5432fff4d79cb2f07cef5fdf6d1f855c3726d6ed5cd6\"\n",
    "    def send(self, ):\n",
    "        recipients = [\"+254796537064\"]\n",
    "        message = \"Hello, Kindly update your HELB Payment\"\n",
    "        #initialize the SDK\n",
    "        africastalking.initialize(self.username, self.api_key)\n",
    "        #get the SMS service\n",
    "        sms = africastalking.SMS\n",
    "\n",
    "        try:\n",
    "            response = sms.send(message, recipients)\n",
    "            print(response)\n",
    "        except:\n",
    "            print(\"oops, the message was not sent\")\n",
    "\n",
    "if __name__ == '__main__':\n",
    "    \n",
    "    SMS().send()"
   ]
  },
  {
   "cell_type": "code",
   "execution_count": null,
   "metadata": {},
   "outputs": [],
   "source": []
  }
 ],
 "metadata": {
  "kernelspec": {
   "display_name": "Python (learn-env)",
   "language": "python",
   "name": "learn-env"
  },
  "language_info": {
   "codemirror_mode": {
    "name": "ipython",
    "version": 3
   },
   "file_extension": ".py",
   "mimetype": "text/x-python",
   "name": "python",
   "nbconvert_exporter": "python",
   "pygments_lexer": "ipython3",
   "version": "3.8.5"
  }
 },
 "nbformat": 4,
 "nbformat_minor": 4
}
